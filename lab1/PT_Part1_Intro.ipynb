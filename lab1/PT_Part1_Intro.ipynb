{
  "cells": [
    {
      "cell_type": "markdown",
      "metadata": {
        "id": "view-in-github",
        "colab_type": "text"
      },
      "source": [
        "<a href=\"https://colab.research.google.com/github/IbratDO/Introduction-to-Deep-Learning/blob/main/lab1/PT_Part1_Intro.ipynb\" target=\"_parent\"><img src=\"https://colab.research.google.com/assets/colab-badge.svg\" alt=\"Open In Colab\"/></a>"
      ]
    },
    {
      "cell_type": "markdown",
      "metadata": {
        "id": "WBk0ZDWY-ff8"
      },
      "source": [
        "<table align=\"center\">\n",
        "  <td align=\"center\"><a target=\"_blank\" href=\"http://introtodeeplearning.com\">\n",
        "        <img src=\"https://i.ibb.co/Jr88sn2/mit.png\" style=\"padding-bottom:5px;\" />\n",
        "      Visit MIT Deep Learning</a></td>\n",
        "  <td align=\"center\"><a target=\"_blank\" href=\"https://colab.research.google.com/github/MITDeepLearning/introtodeeplearning/blob/master/lab1/PT_Part1_Intro.ipynb\">\n",
        "        <img src=\"https://i.ibb.co/2P3SLwK/colab.png\"  style=\"padding-bottom:5px;\" />Run in Google Colab</a></td>\n",
        "  <td align=\"center\"><a target=\"_blank\" href=\"https://github.com/MITDeepLearning/introtodeeplearning/blob/master/lab1/PT_Part1_Intro.ipynb\">\n",
        "        <img src=\"https://i.ibb.co/xfJbPmL/github.png\"  height=\"70px\" style=\"padding-bottom:5px;\"  />View Source on GitHub</a></td>\n",
        "</table>\n",
        "\n",
        "# Copyright Information\n"
      ]
    },
    {
      "cell_type": "code",
      "execution_count": 2,
      "metadata": {
        "id": "3eI6DUic-6jo"
      },
      "outputs": [],
      "source": [
        "# Copyright 2025 MIT Introduction to Deep Learning. All Rights Reserved.\n",
        "#\n",
        "# Licensed under the MIT License. You may not use this file except in compliance\n",
        "# with the License. Use and/or modification of this code outside of MIT Introduction\n",
        "# to Deep Learning must reference:\n",
        "#\n",
        "# © MIT Introduction to Deep Learning\n",
        "# http://introtodeeplearning.com\n",
        "#"
      ]
    },
    {
      "cell_type": "markdown",
      "metadata": {
        "id": "57knM8jrYZ2t"
      },
      "source": [
        "# Lab 1: Intro to PyTorch and Music Generation with RNNs\n",
        "\n",
        "In this lab, you'll get exposure to using PyTorch and learn how it can be used for deep learning. Go through the code and run each cell. Along the way, you'll encounter several ***TODO*** blocks -- follow the instructions to fill them out before running those cells and continuing.\n",
        "\n",
        "\n",
        "# Part 1: Intro to PyTorch\n",
        "\n",
        "## 0.1 Install PyTorch\n",
        "\n",
        "[PyTorch](https://pytorch.org/) is a popular deep learning library known for its flexibility and ease of use. Here we'll learn how computations are represented and how to define a simple neural network in PyTorch. For all the labs in Introduction to Deep Learning 2025, there will be a PyTorch version available.\n",
        "\n",
        "Let's install PyTorch and a couple of dependencies."
      ]
    },
    {
      "cell_type": "code",
      "execution_count": 3,
      "metadata": {
        "id": "LkaimNJfYZ2w",
        "colab": {
          "base_uri": "https://localhost:8080/"
        },
        "outputId": "3e9bc29b-cf05-45e4-9933-6c0cca3f52d6"
      },
      "outputs": [
        {
          "metadata": {
            "tags": null
          },
          "name": "stdout",
          "output_type": "stream",
          "text": [
            "\u001b[2K     \u001b[90m━━━━━━━━━━━━━━━━━━━━━━━━━━━━━━━━━━━━━━━━\u001b[0m \u001b[32m2.8/2.8 MB\u001b[0m \u001b[31m46.6 MB/s\u001b[0m eta \u001b[36m0:00:00\u001b[0m\n",
            "\u001b[?25h  Preparing metadata (setup.py) ... \u001b[?25l\u001b[?25hdone\n",
            "\u001b[2K     \u001b[90m━━━━━━━━━━━━━━━━━━━━━━━━━━━━━━━━━━━━━━━━\u001b[0m \u001b[32m149.3/149.3 kB\u001b[0m \u001b[31m14.0 MB/s\u001b[0m eta \u001b[36m0:00:00\u001b[0m\n",
            "\u001b[2K   \u001b[90m━━━━━━━━━━━━━━━━━━━━━━━━━━━━━━━━━━━━━━━━\u001b[0m \u001b[32m491.2/491.2 kB\u001b[0m \u001b[31m36.0 MB/s\u001b[0m eta \u001b[36m0:00:00\u001b[0m\n",
            "\u001b[2K   \u001b[90m━━━━━━━━━━━━━━━━━━━━━━━━━━━━━━━━━━━━━━━━\u001b[0m \u001b[32m434.1/434.1 kB\u001b[0m \u001b[31m29.1 MB/s\u001b[0m eta \u001b[36m0:00:00\u001b[0m\n",
            "\u001b[2K   \u001b[90m━━━━━━━━━━━━━━━━━━━━━━━━━━━━━━━━━━━━━━━━\u001b[0m \u001b[32m68.6/68.6 kB\u001b[0m \u001b[31m1.9 MB/s\u001b[0m eta \u001b[36m0:00:00\u001b[0m\n",
            "\u001b[2K   \u001b[90m━━━━━━━━━━━━━━━━━━━━━━━━━━━━━━━━━━━━━━━━\u001b[0m \u001b[32m116.3/116.3 kB\u001b[0m \u001b[31m10.7 MB/s\u001b[0m eta \u001b[36m0:00:00\u001b[0m\n",
            "\u001b[2K   \u001b[90m━━━━━━━━━━━━━━━━━━━━━━━━━━━━━━━━━━━━━━━━\u001b[0m \u001b[32m183.9/183.9 kB\u001b[0m \u001b[31m14.7 MB/s\u001b[0m eta \u001b[36m0:00:00\u001b[0m\n",
            "\u001b[2K   \u001b[90m━━━━━━━━━━━━━━━━━━━━━━━━━━━━━━━━━━━━━━━━\u001b[0m \u001b[32m161.7/161.7 kB\u001b[0m \u001b[31m12.6 MB/s\u001b[0m eta \u001b[36m0:00:00\u001b[0m\n",
            "\u001b[2K   \u001b[90m━━━━━━━━━━━━━━━━━━━━━━━━━━━━━━━━━━━━━━━━\u001b[0m \u001b[32m143.5/143.5 kB\u001b[0m \u001b[31m11.0 MB/s\u001b[0m eta \u001b[36m0:00:00\u001b[0m\n",
            "\u001b[2K   \u001b[90m━━━━━━━━━━━━━━━━━━━━━━━━━━━━━━━━━━━━━━━━\u001b[0m \u001b[32m363.4/363.4 MB\u001b[0m \u001b[31m4.1 MB/s\u001b[0m eta \u001b[36m0:00:00\u001b[0m\n",
            "\u001b[2K   \u001b[90m━━━━━━━━━━━━━━━━━━━━━━━━━━━━━━━━━━━━━━━━\u001b[0m \u001b[32m13.8/13.8 MB\u001b[0m \u001b[31m111.3 MB/s\u001b[0m eta \u001b[36m0:00:00\u001b[0m\n",
            "\u001b[2K   \u001b[90m━━━━━━━━━━━━━━━━━━━━━━━━━━━━━━━━━━━━━━━━\u001b[0m \u001b[32m24.6/24.6 MB\u001b[0m \u001b[31m89.6 MB/s\u001b[0m eta \u001b[36m0:00:00\u001b[0m\n",
            "\u001b[2K   \u001b[90m━━━━━━━━━━━━━━━━━━━━━━━━━━━━━━━━━━━━━━━━\u001b[0m \u001b[32m883.7/883.7 kB\u001b[0m \u001b[31m51.1 MB/s\u001b[0m eta \u001b[36m0:00:00\u001b[0m\n",
            "\u001b[2K   \u001b[90m━━━━━━━━━━━━━━━━━━━━━━━━━━━━━━━━━━━━━━━━\u001b[0m \u001b[32m664.8/664.8 MB\u001b[0m \u001b[31m2.6 MB/s\u001b[0m eta \u001b[36m0:00:00\u001b[0m\n",
            "\u001b[2K   \u001b[90m━━━━━━━━━━━━━━━━━━━━━━━━━━━━━━━━━━━━━━━━\u001b[0m \u001b[32m211.5/211.5 MB\u001b[0m \u001b[31m6.4 MB/s\u001b[0m eta \u001b[36m0:00:00\u001b[0m\n",
            "\u001b[2K   \u001b[90m━━━━━━━━━━━━━━━━━━━━━━━━━━━━━━━━━━━━━━━━\u001b[0m \u001b[32m56.3/56.3 MB\u001b[0m \u001b[31m18.2 MB/s\u001b[0m eta \u001b[36m0:00:00\u001b[0m\n",
            "\u001b[2K   \u001b[90m━━━━━━━━━━━━━━━━━━━━━━━━━━━━━━━━━━━━━━━━\u001b[0m \u001b[32m127.9/127.9 MB\u001b[0m \u001b[31m7.7 MB/s\u001b[0m eta \u001b[36m0:00:00\u001b[0m\n",
            "\u001b[2K   \u001b[90m━━━━━━━━━━━━━━━━━━━━━━━━━━━━━━━━━━━━━━━━\u001b[0m \u001b[32m207.5/207.5 MB\u001b[0m \u001b[31m5.5 MB/s\u001b[0m eta \u001b[36m0:00:00\u001b[0m\n",
            "\u001b[2K   \u001b[90m━━━━━━━━━━━━━━━━━━━━━━━━━━━━━━━━━━━━━━━━\u001b[0m \u001b[32m21.1/21.1 MB\u001b[0m \u001b[31m86.1 MB/s\u001b[0m eta \u001b[36m0:00:00\u001b[0m\n",
            "\u001b[2K   \u001b[90m━━━━━━━━━━━━━━━━━━━━━━━━━━━━━━━━━━━━━━━━\u001b[0m \u001b[32m7.0/7.0 MB\u001b[0m \u001b[31m106.5 MB/s\u001b[0m eta \u001b[36m0:00:00\u001b[0m\n",
            "\u001b[2K   \u001b[90m━━━━━━━━━━━━━━━━━━━━━━━━━━━━━━━━━━━━━━━━\u001b[0m \u001b[32m194.8/194.8 kB\u001b[0m \u001b[31m16.5 MB/s\u001b[0m eta \u001b[36m0:00:00\u001b[0m\n",
            "\u001b[2K   \u001b[90m━━━━━━━━━━━━━━━━━━━━━━━━━━━━━━━━━━━━━━━━\u001b[0m \u001b[32m3.1/3.1 MB\u001b[0m \u001b[31m83.9 MB/s\u001b[0m eta \u001b[36m0:00:00\u001b[0m\n",
            "\u001b[2K   \u001b[90m━━━━━━━━━━━━━━━━━━━━━━━━━━━━━━━━━━━━━━━━\u001b[0m \u001b[32m1.2/1.2 MB\u001b[0m \u001b[31m61.8 MB/s\u001b[0m eta \u001b[36m0:00:00\u001b[0m\n",
            "\u001b[2K   \u001b[90m━━━━━━━━━━━━━━━━━━━━━━━━━━━━━━━━━━━━━━━━\u001b[0m \u001b[32m65.4/65.4 kB\u001b[0m \u001b[31m5.8 MB/s\u001b[0m eta \u001b[36m0:00:00\u001b[0m\n",
            "\u001b[?25h  Building wheel for mitdeeplearning (setup.py) ... \u001b[?25l\u001b[?25hdone\n",
            "\u001b[31mERROR: pip's dependency resolver does not currently take into account all the packages that are installed. This behaviour is the source of the following dependency conflicts.\n",
            "gcsfs 2025.3.0 requires fsspec==2025.3.0, but you have fsspec 2024.12.0 which is incompatible.\u001b[0m\u001b[31m\n",
            "\u001b[0m"
          ]
        }
      ],
      "source": [
        "import torch\n",
        "import torch.nn as nn\n",
        "\n",
        "# Download and import the MIT Introduction to Deep Learning package\n",
        "!pip install mitdeeplearning --quiet\n",
        "import mitdeeplearning as mdl\n",
        "\n",
        "import numpy as np\n",
        "import matplotlib.pyplot as plt"
      ]
    },
    {
      "cell_type": "markdown",
      "metadata": {
        "id": "2QNMcdP4m3Vs"
      },
      "source": [
        "## 1.1 What is PyTorch?\n",
        "\n",
        "PyTorch is a machine learning library, like TensorFlow. At its core, PyTorch provides an interface for creating and manipulating [tensors](https://pytorch.org/docs/stable/tensors.html), which are data structures that you can think of as multi-dimensional arrays. Tensors are represented as n-dimensional arrays of base datatypes such as a string or integer -- they provide a way to generalize vectors and matrices to higher dimensions. PyTorch provides the ability to perform computation on these tensors, define neural networks, and train them efficiently.\n",
        "\n",
        "The [```shape```](https://pytorch.org/docs/stable/generated/torch.Tensor.shape.html#torch.Tensor.shape) of a PyTorch tensor defines its number of dimensions and the size of each dimension. The `ndim` or [```dim```](https://pytorch.org/docs/stable/generated/torch.Tensor.dim.html#torch.Tensor.dim) of a PyTorch tensor provides the number of dimensions (n-dimensions) -- this is equivalent to the tensor's rank (as is used in TensorFlow), and you can also think of this as the tensor's order or degree.\n",
        "\n",
        "Let’s start by creating some tensors and inspecting their properties:\n"
      ]
    },
    {
      "cell_type": "code",
      "execution_count": 4,
      "metadata": {
        "id": "tFxztZQInlAB",
        "colab": {
          "base_uri": "https://localhost:8080/"
        },
        "outputId": "ac5ca019-1152-47ff-ce4c-580f5719bc6b"
      },
      "outputs": [
        {
          "metadata": {
            "tags": null
          },
          "name": "stdout",
          "output_type": "stream",
          "text": [
            "`integer` is a 0-d Tensor: 1234\n",
            "`decimal` is a 0-d Tensor: 3.1415927410125732\n"
          ]
        }
      ],
      "source": [
        "integer = torch.tensor(1234)\n",
        "decimal = torch.tensor(3.14159265359)\n",
        "\n",
        "print(f\"`integer` is a {integer.ndim}-d Tensor: {integer}\")\n",
        "print(f\"`decimal` is a {decimal.ndim}-d Tensor: {decimal}\")\n"
      ]
    },
    {
      "cell_type": "markdown",
      "metadata": {
        "id": "-dljcPUcoJZ6"
      },
      "source": [
        "Vectors and lists can be used to create 1-d tensors:"
      ]
    },
    {
      "cell_type": "code",
      "execution_count": 5,
      "metadata": {
        "id": "oaHXABe8oPcO",
        "colab": {
          "base_uri": "https://localhost:8080/"
        },
        "outputId": "43c94196-f91d-44bd-c813-416fa89392ab"
      },
      "outputs": [
        {
          "metadata": {
            "tags": null
          },
          "name": "stdout",
          "output_type": "stream",
          "text": [
            "`fibonacci` is a 1-d Tensor with shape: torch.Size([6])\n",
            "`count_to_100` is a 1-d Tensor with shape: torch.Size([100])\n"
          ]
        }
      ],
      "source": [
        "fibonacci = torch.tensor([1, 1, 2, 3, 5, 8])\n",
        "count_to_100 = torch.tensor(range(100))\n",
        "\n",
        "print(f\"`fibonacci` is a {fibonacci.ndim}-d Tensor with shape: {fibonacci.shape}\")\n",
        "print(f\"`count_to_100` is a {count_to_100.ndim}-d Tensor with shape: {count_to_100.shape}\")\n"
      ]
    },
    {
      "cell_type": "markdown",
      "metadata": {
        "id": "gvffwkvtodLP"
      },
      "source": [
        "Next, let’s create 2-d (i.e., matrices) and higher-rank tensors. In image processing and computer vision, we will use 4-d Tensors with dimensions corresponding to batch size, number of color channels, image height, and image width."
      ]
    },
    {
      "cell_type": "code",
      "execution_count": 6,
      "metadata": {
        "id": "tFeBBe1IouS3",
        "colab": {
          "base_uri": "https://localhost:8080/"
        },
        "outputId": "b620dded-5827-4c8e-9521-f2ec9e993500"
      },
      "outputs": [
        {
          "metadata": {
            "tags": null
          },
          "name": "stdout",
          "output_type": "stream",
          "text": [
            "Shape: torch.Size([2, 4])\n",
            "images is a 4-d Tensor with shape: torch.Size([10, 3, 256, 256])\n"
          ]
        },
        {
          "metadata": {
            "tags": null
          },
          "name": "stderr",
          "output_type": "stream",
          "text": [
            "<ipython-input-6-46a351feb4d8>:16: UserWarning: To copy construct from a tensor, it is recommended to use sourceTensor.clone().detach() or sourceTensor.clone().detach().requires_grad_(True), rather than torch.tensor(sourceTensor).\n",
            "  images = torch.tensor(torch.zeros(10, 3, 256, 256)) # TODO\n"
          ]
        }
      ],
      "source": [
        "### Defining higher-order Tensors ###\n",
        "\n",
        "'''TODO: Define a 2-d Tensor'''\n",
        "matrix = torch.tensor([\n",
        "    [1,2,3,4],\n",
        "    [5,6,7,8]\n",
        "]) # TODO\n",
        "\n",
        "print(\"Shape:\", matrix.shape)\n",
        "assert isinstance(matrix, torch.Tensor), \"matrix must be a torch Tensor object\"\n",
        "assert matrix.ndim == 2\n",
        "\n",
        "'''TODO: Define a 4-d Tensor.'''\n",
        "# Use torch.zeros to initialize a 4-d Tensor of zeros with size 10 x 3 x 256 x 256.\n",
        "#   You can think of this as 10 images where each image is RGB 256 x 256.\n",
        "images = torch.tensor(torch.zeros(10, 3, 256, 256)) # TODO\n",
        "\n",
        "assert isinstance(images, torch.Tensor), \"images must be a torch Tensor object\"\n",
        "assert images.ndim == 4, \"images must have 4 dimensions\"\n",
        "assert images.shape == (10, 3, 256, 256), \"images is incorrect shape\"\n",
        "print(f\"images is a {images.ndim}-d Tensor with shape: {images.shape}\")"
      ]
    },
    {
      "cell_type": "markdown",
      "metadata": {
        "id": "wkaCDOGapMyl"
      },
      "source": [
        "As you have seen, the `shape` of a tensor provides the number of elements in each tensor dimension. The `shape` is quite useful, and we'll use it often. You can also use slicing to access subtensors within a higher-rank tensor:"
      ]
    },
    {
      "cell_type": "code",
      "execution_count": 7,
      "metadata": {
        "id": "FhaufyObuLEG",
        "colab": {
          "base_uri": "https://localhost:8080/"
        },
        "outputId": "590bb74a-13df-40dc-c346-2daca5fc7f4b"
      },
      "outputs": [
        {
          "metadata": {
            "tags": null
          },
          "name": "stdout",
          "output_type": "stream",
          "text": [
            "`row_vector`: tensor([5, 6, 7, 8])\n",
            "`column_vector`: tensor([2, 6])\n",
            "`scalar`: 2\n"
          ]
        }
      ],
      "source": [
        "row_vector = matrix[1]\n",
        "column_vector = matrix[:, 1]\n",
        "scalar = matrix[0, 1]\n",
        "\n",
        "print(f\"`row_vector`: {row_vector}\")\n",
        "print(f\"`column_vector`: {column_vector}\")\n",
        "print(f\"`scalar`: {scalar}\")"
      ]
    },
    {
      "cell_type": "markdown",
      "metadata": {
        "id": "iD3VO-LZYZ2z"
      },
      "source": [
        "## 1.2 Computations on Tensors\n",
        "\n",
        "A convenient way to think about and visualize computations in a machine learning framework like PyTorch is in terms of graphs. We can define this graph in terms of tensors, which hold data, and the mathematical operations that act on these tensors in some order. Let's look at a simple example, and define this computation using PyTorch:\n",
        "\n",
        "![alt text](https://raw.githubusercontent.com/MITDeepLearning/introtodeeplearning/2025/lab1/img/add-graph.png)"
      ]
    },
    {
      "cell_type": "code",
      "execution_count": 8,
      "metadata": {
        "id": "X_YJrZsxYZ2z",
        "colab": {
          "base_uri": "https://localhost:8080/"
        },
        "outputId": "768b4233-4279-4133-ebae-fb9453298fbe"
      },
      "outputs": [
        {
          "metadata": {
            "tags": null
          },
          "name": "stdout",
          "output_type": "stream",
          "text": [
            "c1: 76\n",
            "c2: 76\n"
          ]
        }
      ],
      "source": [
        "# Create the nodes in the graph and initialize values\n",
        "a = torch.tensor(15)\n",
        "b = torch.tensor(61)\n",
        "\n",
        "# Add them!\n",
        "c1 = torch.add(a, b)\n",
        "c2 = a + b  # PyTorch overrides the \"+\" operation so that it is able to act on Tensors\n",
        "print(f\"c1: {c1}\")\n",
        "print(f\"c2: {c2}\")\n"
      ]
    },
    {
      "cell_type": "markdown",
      "metadata": {
        "id": "Mbfv_QOiYZ23"
      },
      "source": [
        "Notice how we've created a computation graph consisting of PyTorch operations, and how the output is a tensor with value 76 -- we've just created a computation graph consisting of operations, and it's executed them and given us back the result.\n",
        "\n",
        "Now let's consider a slightly more complicated example:\n",
        "\n",
        "![alt text](https://raw.githubusercontent.com/MITDeepLearning/introtodeeplearning/2025/lab1/img/computation-graph.png)\n",
        "\n",
        "Here, we take two inputs, `a, b`, and compute an output `e`. Each node in the graph represents an operation that takes some input, does some computation, and passes its output to another node.\n",
        "\n",
        "Let's define a simple function in PyTorch to construct this computation function:"
      ]
    },
    {
      "cell_type": "code",
      "execution_count": 9,
      "metadata": {
        "id": "PJnfzpWyYZ23",
        "scrolled": true
      },
      "outputs": [],
      "source": [
        "### Defining Tensor computations ###\n",
        "\n",
        "# Construct a simple computation function\n",
        "def func(a, b):\n",
        "    '''TODO: Define the operation for c, d, e.'''\n",
        "    c =  a + b # TODO\n",
        "    d = b - 1# TODO\n",
        "    e = c*d# TODO\n",
        "    return e\n"
      ]
    },
    {
      "cell_type": "markdown",
      "metadata": {
        "id": "AwrRfDMS2-oy"
      },
      "source": [
        "Now, we can call this function to execute the computation graph given some inputs `a,b`:"
      ]
    },
    {
      "cell_type": "code",
      "execution_count": 10,
      "metadata": {
        "id": "pnwsf8w2uF7p",
        "colab": {
          "base_uri": "https://localhost:8080/"
        },
        "outputId": "91fcfa6b-a005-489b-d9e6-6f0d09dd0d0e"
      },
      "outputs": [
        {
          "metadata": {
            "tags": null
          },
          "name": "stdout",
          "output_type": "stream",
          "text": [
            "e_out: 6.0\n"
          ]
        }
      ],
      "source": [
        "# Consider example values for a,b\n",
        "a, b = 1.5, 2.5\n",
        "# Execute the computation\n",
        "e_out = func(a, b)\n",
        "print(f\"e_out: {e_out}\")"
      ]
    },
    {
      "cell_type": "markdown",
      "metadata": {
        "id": "6HqgUIUhYZ29"
      },
      "source": [
        "Notice how our output is a tensor with value defined by the output of the computation, and that the output has no shape as it is a single scalar value."
      ]
    },
    {
      "cell_type": "markdown",
      "metadata": {
        "id": "1h4o9Bb0YZ29"
      },
      "source": [
        "## 1.3 Neural networks in PyTorch\n",
        "We can also define neural networks in PyTorch. PyTorch uses [``torch.nn.Module``](https://pytorch.org/docs/stable/generated/torch.nn.Module.html), which serves as a base class for all neural network modules in PyTorch and thus provides a framework for building and training neural networks.\n",
        "\n",
        "Let's consider the example of a simple perceptron defined by just one dense (aka fully-connected or linear) layer: $ y = \\sigma(Wx + b) $, where $W$ represents a matrix of weights, $b$ is a bias, $x$ is the input, $\\sigma$ is the sigmoid activation function, and $y$ is the output.\n",
        "\n",
        "![alt text](https://raw.githubusercontent.com/MITDeepLearning/introtodeeplearning/2025/lab1/img/computation-graph-2.png)\n",
        "\n",
        "We will use `torch.nn.Module` to define layers -- the building blocks of neural networks. Layers implement common neural networks operations. In PyTorch, when we implement a layer, we subclass `nn.Module` and define the parameters of the layer as attributes of our new class. We also define and override a function [``forward``](https://pytorch.org/docs/stable/generated/torch.nn.Module.html#torch.nn.Module.forward), which will define the forward pass computation that is performed at every step. All classes subclassing `nn.Module` should override the `forward` function.\n",
        "\n",
        "Let's write a dense layer class to implement a perceptron defined above."
      ]
    },
    {
      "cell_type": "code",
      "execution_count": 11,
      "metadata": {
        "id": "HutbJk-1kHPh"
      },
      "outputs": [],
      "source": [
        "### Defining a dense layer ###\n",
        "\n",
        "# num_inputs: number of input nodes\n",
        "# num_outputs: number of output nodes\n",
        "# x: input to the layer\n",
        "\n",
        "class OurDenseLayer(torch.nn.Module):\n",
        "    def __init__(self, num_inputs, num_outputs):\n",
        "        super(OurDenseLayer, self).__init__()\n",
        "        # Define and initialize parameters: a weight matrix W and bias b\n",
        "        # Note that the parameter initialize is random!\n",
        "        self.W = torch.nn.Parameter(torch.randn(num_inputs, num_outputs))\n",
        "        self.bias = torch.nn.Parameter(torch.randn(num_outputs))\n",
        "\n",
        "    def forward(self, x):\n",
        "        '''TODO: define the operation for z (hint: use torch.matmul).'''\n",
        "        z = torch.matmul(x, self.W) + self.bias # TODO\n",
        "\n",
        "        '''TODO: define the operation for out (hint: use torch.sigmoid).'''\n",
        "        y = torch.sigmoid(z) # TODO\n",
        "        return y\n"
      ]
    },
    {
      "cell_type": "markdown",
      "metadata": {
        "id": "GqeEbn959hV_"
      },
      "source": [
        "Now, let's test the output of our layer."
      ]
    },
    {
      "cell_type": "code",
      "execution_count": 12,
      "metadata": {
        "id": "2yxjCPa69hV_",
        "colab": {
          "base_uri": "https://localhost:8080/"
        },
        "outputId": "f0c1eb1a-00d7-4634-a9f2-ce0b221df90c"
      },
      "outputs": [
        {
          "metadata": {
            "tags": null
          },
          "name": "stdout",
          "output_type": "stream",
          "text": [
            "input shape: torch.Size([3, 2])\n",
            "output shape: torch.Size([3, 3])\n",
            "output result: tensor([[0.6202, 0.9581, 0.7185],\n",
            "        [0.9689, 0.9998, 0.8382],\n",
            "        [0.9231, 0.9992, 0.8403]], grad_fn=<SigmoidBackward0>)\n"
          ]
        }
      ],
      "source": [
        "# Define a layer and test the output!\n",
        "num_inputs = 2\n",
        "num_outputs = 3\n",
        "layer = OurDenseLayer(num_inputs, num_outputs)\n",
        "x_input = torch.tensor([[1, 2.], [3.5, 5], [3., 4]])\n",
        "y = layer(x_input)\n",
        "\n",
        "print(f\"input shape: {x_input.shape}\")\n",
        "print(f\"output shape: {y.shape}\")\n",
        "print(f\"output result: {y}\")"
      ]
    },
    {
      "cell_type": "markdown",
      "metadata": {
        "id": "Jt1FgM7qYZ3D"
      },
      "source": [
        "Conveniently, PyTorch has defined a number of ```nn.Modules``` (or Layers) that are commonly used in neural networks, for example a [```nn.Linear```](https://pytorch.org/docs/stable/generated/torch.nn.Linear.html) or [`nn.Sigmoid`](https://pytorch.org/docs/stable/generated/torch.nn.Sigmoid.html) module.\n",
        "\n",
        "Now, instead of using a single ```Module``` to define our simple neural network, we'll use the  [`nn.Sequential`](https://pytorch.org/docs/stable/generated/torch.nn.Sequential.html) module from PyTorch and a single [`nn.Linear` ](https://pytorch.org/docs/stable/generated/torch.nn.Linear.html) layer to define our network. With the `Sequential` API, you can readily create neural networks by stacking together layers like building blocks."
      ]
    },
    {
      "cell_type": "code",
      "execution_count": 13,
      "metadata": {
        "id": "7WXTpmoL6TDz"
      },
      "outputs": [],
      "source": [
        "### Defining a neural network using the PyTorch Sequential API ###\n",
        "\n",
        "# define the number of inputs and outputs\n",
        "n_input_nodes = 2\n",
        "n_output_nodes = 3\n",
        "\n",
        "# Define the model\n",
        "'''TODO: Use the Sequential API to define a neural network with a\n",
        "    single linear (dense!) layer, followed by non-linearity to compute z'''\n",
        "model = nn.Sequential(\n",
        "    nn.Linear(n_input_nodes, n_output_nodes),\n",
        "    nn.Sigmoid()\n",
        ")\n"
      ]
    },
    {
      "cell_type": "markdown",
      "metadata": {
        "id": "HDGcwYfUyR-U"
      },
      "source": [
        "We've defined our model using the Sequential API. Now, we can test it out using an example input:"
      ]
    },
    {
      "cell_type": "code",
      "execution_count": 14,
      "metadata": {
        "id": "zKhp6XqCFFa0",
        "colab": {
          "base_uri": "https://localhost:8080/"
        },
        "outputId": "415bc34c-0c5c-45cf-e84e-a4a3c6402810"
      },
      "outputs": [
        {
          "metadata": {
            "tags": null
          },
          "name": "stdout",
          "output_type": "stream",
          "text": [
            "input shape: torch.Size([1, 2])\n",
            "output shape: torch.Size([3, 3])\n",
            "output result: tensor([[0.6202, 0.9581, 0.7185],\n",
            "        [0.9689, 0.9998, 0.8382],\n",
            "        [0.9231, 0.9992, 0.8403]], grad_fn=<SigmoidBackward0>)\n"
          ]
        }
      ],
      "source": [
        "# Test the model with example input\n",
        "x_input = torch.tensor([[1, 2.]])\n",
        "model_output = model(x_input)\n",
        "print(f\"input shape: {x_input.shape}\")\n",
        "print(f\"output shape: {y.shape}\")\n",
        "print(f\"output result: {y}\")"
      ]
    },
    {
      "cell_type": "markdown",
      "metadata": {
        "id": "596NvsOOtr9F"
      },
      "source": [
        "With PyTorch, we can create more flexible models by subclassing [`nn.Module`](https://pytorch.org/docs/stable/generated/torch.nn.Module.html). The `nn.Module` class allows us to group layers together flexibly to define new architectures.\n",
        "\n",
        "As we saw earlier with `OurDenseLayer`, we can subclass `nn.Module` to create a class for our model, and then define the forward pass through the network using the `forward` function. Subclassing affords the flexibility to define custom layers, custom training loops, custom activation functions, and custom models. Let's define the same neural network model as above (i.e., Linear layer with an activation function after it), now using subclassing and using PyTorch's built in linear layer from `nn.Linear`."
      ]
    },
    {
      "cell_type": "code",
      "execution_count": 15,
      "metadata": {
        "id": "K4aCflPVyViD"
      },
      "outputs": [],
      "source": [
        "### Defining a model using subclassing ###\n",
        "\n",
        "class LinearWithSigmoidActivation(nn.Module):\n",
        "    def __init__(self, num_inputs, num_outputs):\n",
        "        super(LinearWithSigmoidActivation, self).__init__()\n",
        "        '''TODO: define a model with a single Linear layer and sigmoid activation.'''\n",
        "        self.linear = nn.Linear(num_inputs, num_outputs)\n",
        "        self.activation = nn.Sigmoid()\n",
        "\n",
        "    def forward(self, inputs):\n",
        "        linear_output = self.linear(inputs)\n",
        "        output = self.activation(linear_output)\n",
        "        return output\n"
      ]
    },
    {
      "cell_type": "markdown",
      "metadata": {
        "id": "goKCQ9dEGzRn"
      },
      "source": [
        "Let's test out our new model, using an example input, setting `n_input_nodes=2` and `n_output_nodes=3` as before."
      ]
    },
    {
      "cell_type": "code",
      "execution_count": 16,
      "metadata": {
        "id": "V-eNhSyRG6hl",
        "colab": {
          "base_uri": "https://localhost:8080/"
        },
        "outputId": "8257c3cc-4e8a-456e-fe17-336293392ce3"
      },
      "outputs": [
        {
          "metadata": {
            "tags": null
          },
          "name": "stdout",
          "output_type": "stream",
          "text": [
            "input shape: torch.Size([1, 2])\n",
            "output shape: torch.Size([1, 3])\n",
            "output result: tensor([[0.1358, 0.3778, 0.4516]], grad_fn=<SigmoidBackward0>)\n"
          ]
        }
      ],
      "source": [
        "n_input_nodes = 2\n",
        "n_output_nodes = 3\n",
        "model = LinearWithSigmoidActivation(n_input_nodes, n_output_nodes)\n",
        "x_input = torch.tensor([[1, 2.]])\n",
        "y = model(x_input)\n",
        "print(f\"input shape: {x_input.shape}\")\n",
        "print(f\"output shape: {y.shape}\")\n",
        "print(f\"output result: {y}\")"
      ]
    },
    {
      "cell_type": "markdown",
      "metadata": {
        "id": "HTIFMJLAzsyE"
      },
      "source": [
        "Importantly, `nn.Module` affords us a lot of flexibility to define custom models. For example, we can use boolean arguments in the `forward` function to specify different network behaviors, for example different behaviors during training and inference. Let's suppose under some instances we want our network to simply output the input, without any perturbation. We define a boolean argument `isidentity` to control this behavior:"
      ]
    },
    {
      "cell_type": "code",
      "execution_count": 17,
      "metadata": {
        "id": "P7jzGX5D1xT5"
      },
      "outputs": [],
      "source": [
        "### Custom behavior with subclassing nn.Module ###\n",
        "\n",
        "class LinearButSometimesIdentity(nn.Module):\n",
        "    def __init__(self, num_inputs, num_outputs):\n",
        "        super(LinearButSometimesIdentity, self).__init__()\n",
        "        self.linear = nn.Linear(num_inputs, num_outputs)\n",
        "\n",
        "    '''TODO: Implement the behavior where the network outputs the input, unchanged,\n",
        "        under control of the isidentity argument.'''\n",
        "    def forward(self, inputs, isidentity=False):\n",
        "        linear_output = self.linear(inputs)\n",
        "        if isidentity:\n",
        "            output = inputs\n",
        "        else:\n",
        "            output = linear_output\n",
        "        return output\n"
      ]
    },
    {
      "cell_type": "markdown",
      "metadata": {
        "id": "Ku4rcCGx5T3y"
      },
      "source": [
        "Let's test this behavior:"
      ]
    },
    {
      "cell_type": "code",
      "execution_count": 18,
      "metadata": {
        "id": "NzC0mgbk5dp2",
        "colab": {
          "base_uri": "https://localhost:8080/"
        },
        "outputId": "a4964791-1c2f-4e4b-a4cb-6e40a3dd0206"
      },
      "outputs": [
        {
          "metadata": {
            "tags": null
          },
          "name": "stdout",
          "output_type": "stream",
          "text": [
            "input: tensor([[1., 2.]])\n",
            "Network linear output: tensor([[-0.3314,  0.3932, -0.3127]], grad_fn=<AddmmBackward0>); network identity output: tensor([[1., 2.]])\n"
          ]
        }
      ],
      "source": [
        "# Test the IdentityModel\n",
        "model = LinearButSometimesIdentity(num_inputs=2, num_outputs=3)\n",
        "x_input = torch.tensor([[1, 2.]])\n",
        "\n",
        "'''TODO: pass the input into the model and call with and without the input identity option.'''\n",
        "out_with_linear = model(x_input, isidentity = False)# TODO\n",
        "\n",
        "out_with_identity = model(x_input, isidentity=True) # TODO\n",
        "\n",
        "print(f\"input: {x_input}\")\n",
        "print(\"Network linear output: {}; network identity output: {}\".format(out_with_linear, out_with_identity))"
      ]
    },
    {
      "cell_type": "markdown",
      "metadata": {
        "id": "7V1dEqdk6VI5"
      },
      "source": [
        "Now that we have learned how to define layers and models in PyTorch using both the Sequential API and subclassing `nn.Module`, we're ready to turn our attention to how to actually implement network training with backpropagation."
      ]
    },
    {
      "cell_type": "markdown",
      "metadata": {
        "id": "dQwDhKn8kbO2"
      },
      "source": [
        "## 1.4 Automatic Differentiation in PyTorch\n",
        "\n",
        "In PyTorch, [`torch.autograd`](https://pytorch.org/docs/stable/autograd.html) is used for [automatic differentiation](https://en.wikipedia.org/wiki/Automatic_differentiation), which is critical for training deep learning models with [backpropagation](https://en.wikipedia.org/wiki/Backpropagation).\n",
        "\n",
        "We will use the PyTorch [`.backward()`](https://pytorch.org/docs/stable/generated/torch.Tensor.backward.html) method to trace operations for computing gradients. On a tensor, the [`requires_grad`](https://pytorch.org/docs/stable/generated/torch.Tensor.requires_grad_.html) attribute controls whether autograd should record operations on that tensor. When a forward pass is made through the network, PyTorch builds a computational graph dynamically; then, to compute the gradient, the `backward()` method is called to perform backpropagation.\n",
        "\n",
        "Let's compute the gradient of $ y = x^2 $:"
      ]
    },
    {
      "cell_type": "code",
      "execution_count": 19,
      "metadata": {
        "id": "tdkqk8pw5yJM",
        "colab": {
          "base_uri": "https://localhost:8080/"
        },
        "outputId": "ebc88627-30c5-4db3-b69b-592090374b9a"
      },
      "outputs": [
        {
          "metadata": {
            "tags": null
          },
          "name": "stdout",
          "output_type": "stream",
          "text": [
            "dy_dx of y=x^2 at x=3.0 is:  tensor(6.)\n"
          ]
        }
      ],
      "source": [
        "### Gradient computation ###\n",
        "\n",
        "# y = x^2\n",
        "# Example: x = 3.0\n",
        "x = torch.tensor(3.0, requires_grad=True)\n",
        "y = x ** 2\n",
        "y.backward()  # Compute the gradient\n",
        "\n",
        "dy_dx = x.grad\n",
        "print(\"dy_dx of y=x^2 at x=3.0 is: \", dy_dx)\n",
        "assert dy_dx == 6.0\n"
      ]
    },
    {
      "cell_type": "markdown",
      "metadata": {
        "id": "JhU5metS5xF3"
      },
      "source": [
        "In training neural networks, we use differentiation and stochastic gradient descent (SGD) to optimize a loss function. Now that we have a sense of how PyTorch's autograd can be used to compute and access derivatives, we will look at an example where we use automatic differentiation and SGD to find the minimum of $ L=(x-x_f)^2 $. Here $x_f$ is a variable for a desired value we are trying to optimize for; $L$ represents a loss that we are trying to minimize. While we can clearly solve this problem analytically ($ x_{min}=x_f $), considering how we can compute this using PyTorch's autograd sets us up nicely for future labs where we use gradient descent to optimize entire neural network losses."
      ]
    },
    {
      "cell_type": "code",
      "execution_count": 23,
      "metadata": {
        "attributes": {
          "classes": [
            "py"
          ],
          "id": ""
        },
        "id": "7g1yWiSXqEf-",
        "colab": {
          "base_uri": "https://localhost:8080/",
          "height": 484
        },
        "outputId": "e63d787a-7307-4153-87c8-18b1b00e989d"
      },
      "outputs": [
        {
          "output_type": "stream",
          "name": "stdout",
          "text": [
            "True value of x = tensor([0.0236])\n",
            "Initializing x=0.023608991876244545\n"
          ]
        },
        {
          "output_type": "display_data",
          "data": {
            "text/plain": [
              "<Figure size 640x480 with 1 Axes>"
            ],
            "image/png": "[encoded data removed]"
          },
          "metadata": {}
        }
      ],
      "source": [
        "### Function minimization with autograd and gradient descent ###\n",
        "\n",
        "# Initialize a random value for our intial x\n",
        "x = torch.randn(1)\n",
        "print(f\"True value of x = {x}\")\n",
        "print(f\"Initializing x={x.item()}\")\n",
        "\n",
        "learning_rate = 1e-2  # Learning rate\n",
        "history = []\n",
        "x_f = 4  # Target value\n",
        "\n",
        "\n",
        "# We will run gradient descent for a number of iterations. At each iteration, we compute the loss,\n",
        "#   compute the derivative of the loss with respect to x, and perform the update.\n",
        "for i in range(500):\n",
        "    x = torch.tensor([x], requires_grad=True)\n",
        "\n",
        "    # TODO: Compute the loss as the square of the difference between x and x_f\n",
        "    loss = (x-x_f)**2 # TODO\n",
        "\n",
        "    # Backpropagate through the loss to compute gradients\n",
        "    loss.backward()\n",
        "\n",
        "    # Update x with gradient descent\n",
        "    x = x.item() - learning_rate * x.grad\n",
        "\n",
        "    history.append(x.item())\n",
        "\n",
        "# Plot the evolution of x as we optimize toward x_f!\n",
        "plt.plot(history)\n",
        "plt.plot([0, 500], [x_f, x_f])\n",
        "plt.legend(('Predicted', 'True'))\n",
        "plt.xlabel('Iteration')\n",
        "plt.ylabel('x value')\n",
        "plt.show()\n"
      ]
    },
    {
      "cell_type": "code",
      "source": [
        "history"
      ],
      "metadata": {
        "id": "r5yLNdFQe3R7",
        "outputId": "ec14a82c-e9e9-48b0-be97-b7f97c08e330",
        "colab": {
          "base_uri": "https://localhost:8080/"
        }
      },
      "execution_count": 24,
      "outputs": [
        {
          "output_type": "execute_result",
          "data": {
            "text/plain": [
              "[0.10313680768013,\n",
              " 0.18107406795024872,\n",
              " 0.2574525773525238,\n",
              " 0.332303524017334,\n",
              " 0.40565747022628784,\n",
              " 0.47754430770874023,\n",
              " 0.5479934215545654,\n",
              " 0.6170335412025452,\n",
              " 0.6846928596496582,\n",
              " 0.7509989738464355,\n",
              " 0.81597900390625,\n",
              " 0.8796594142913818,\n",
              " 0.9420662522315979,\n",
              " 1.0032249689102173,\n",
              " 1.0631604194641113,\n",
              " 1.1218972206115723,\n",
              " 1.1794593334197998,\n",
              " 1.235870122909546,\n",
              " 1.2911527156829834,\n",
              " 1.3453296422958374,\n",
              " 1.3984230756759644,\n",
              " 1.450454592704773,\n",
              " 1.5014455318450928,\n",
              " 1.5514166355133057,\n",
              " 1.6003882884979248,\n",
              " 1.6483805179595947,\n",
              " 1.6954128742218018,\n",
              " 1.7415046691894531,\n",
              " 1.7866746187210083,\n",
              " 1.830941081047058,\n",
              " 1.8743222951889038,\n",
              " 1.9168357849121094,\n",
              " 1.9584990739822388,\n",
              " 1.9993290901184082,\n",
              " 2.0393424034118652,\n",
              " 2.0785555839538574,\n",
              " 2.1169843673706055,\n",
              " 2.154644727706909,\n",
              " 2.191551923751831,\n",
              " 2.2277209758758545,\n",
              " 2.263166666030884,\n",
              " 2.297903299331665,\n",
              " 2.3319451808929443,\n",
              " 2.3653063774108887,\n",
              " 2.3980002403259277,\n",
              " 2.430040121078491,\n",
              " 2.461439371109009,\n",
              " 2.492210626602173,\n",
              " 2.522366523742676,\n",
              " 2.5519192218780518,\n",
              " 2.580880880355835,\n",
              " 2.6092631816864014,\n",
              " 2.637077808380127,\n",
              " 2.6643362045288086,\n",
              " 2.691049575805664,\n",
              " 2.717228651046753,\n",
              " 2.7428841590881348,\n",
              " 2.76802659034729,\n",
              " 2.792665958404541,\n",
              " 2.816812753677368,\n",
              " 2.8404765129089355,\n",
              " 2.8636670112609863,\n",
              " 2.8863937854766846,\n",
              " 2.908665895462036,\n",
              " 2.930492639541626,\n",
              " 2.951882839202881,\n",
              " 2.9728450775146484,\n",
              " 2.9933881759643555,\n",
              " 3.0135204792022705,\n",
              " 3.033250093460083,\n",
              " 3.0525851249694824,\n",
              " 3.071533441543579,\n",
              " 3.0901026725769043,\n",
              " 3.1083006858825684,\n",
              " 3.1261346340179443,\n",
              " 3.1436119079589844,\n",
              " 3.1607396602630615,\n",
              " 3.1775248050689697,\n",
              " 3.193974256515503,\n",
              " 3.210094690322876,\n",
              " 3.2258927822113037,\n",
              " 3.241374969482422,\n",
              " 3.256547451019287,\n",
              " 3.271416425704956,\n",
              " 3.2859880924224854,\n",
              " 3.3002684116363525,\n",
              " 3.314263105392456,\n",
              " 3.3279778957366943,\n",
              " 3.3414182662963867,\n",
              " 3.3545899391174316,\n",
              " 3.3674981594085693,\n",
              " 3.38014817237854,\n",
              " 3.392545223236084,\n",
              " 3.4046943187713623,\n",
              " 3.416600465774536,\n",
              " 3.4282684326171875,\n",
              " 3.4397029876708984,\n",
              " 3.450908899307251,\n",
              " 3.461890697479248,\n",
              " 3.4726529121398926,\n",
              " 3.4831998348236084,\n",
              " 3.4935357570648193,\n",
              " 3.503664970397949,\n",
              " 3.513591766357422,\n",
              " 3.523319959640503,\n",
              " 3.532853603363037,\n",
              " 3.54219651222229,\n",
              " 3.5513525009155273,\n",
              " 3.5603253841400146,\n",
              " 3.5691189765930176,\n",
              " 3.5777366161346436,\n",
              " 3.586181879043579,\n",
              " 3.5944583415985107,\n",
              " 3.602569103240967,\n",
              " 3.610517740249634,\n",
              " 3.61830735206604,\n",
              " 3.625941276550293,\n",
              " 3.633422374725342,\n",
              " 3.640753984451294,\n",
              " 3.6479389667510986,\n",
              " 3.654980182647705,\n",
              " 3.6618804931640625,\n",
              " 3.668642997741699,\n",
              " 3.6752700805664062,\n",
              " 3.681764602661133,\n",
              " 3.688129425048828,\n",
              " 3.694366931915283,\n",
              " 3.700479507446289,\n",
              " 3.706470012664795,\n",
              " 3.7123405933380127,\n",
              " 3.7180938720703125,\n",
              " 3.7237319946289062,\n",
              " 3.729257345199585,\n",
              " 3.7346723079681396,\n",
              " 3.739978790283203,\n",
              " 3.7451791763305664,\n",
              " 3.7502756118774414,\n",
              " 3.755270004272461,\n",
              " 3.760164499282837,\n",
              " 3.7649612426757812,\n",
              " 3.7696619033813477,\n",
              " 3.774268627166748,\n",
              " 3.7787833213806152,\n",
              " 3.783207654953003,\n",
              " 3.787543535232544,\n",
              " 3.791792631149292,\n",
              " 3.79595685005188,\n",
              " 3.8000376224517822,\n",
              " 3.804036855697632,\n",
              " 3.8079562187194824,\n",
              " 3.8117971420288086,\n",
              " 3.815561294555664,\n",
              " 3.8192501068115234,\n",
              " 3.8228650093078613,\n",
              " 3.8264076709747314,\n",
              " 3.8298795223236084,\n",
              " 3.833281993865967,\n",
              " 3.836616277694702,\n",
              " 3.839884042739868,\n",
              " 3.8430862426757812,\n",
              " 3.846224546432495,\n",
              " 3.8493001461029053,\n",
              " 3.8523142337799072,\n",
              " 3.8552680015563965,\n",
              " 3.8581626415252686,\n",
              " 3.860999345779419,\n",
              " 3.863779306411743,\n",
              " 3.8665037155151367,\n",
              " 3.869173526763916,\n",
              " 3.8717901706695557,\n",
              " 3.874354362487793,\n",
              " 3.8768672943115234,\n",
              " 3.8793299198150635,\n",
              " 3.8817434310913086,\n",
              " 3.884108543395996,\n",
              " 3.8864264488220215,\n",
              " 3.888697862625122,\n",
              " 3.8909239768981934,\n",
              " 3.8931055068969727,\n",
              " 3.8952434062957764,\n",
              " 3.897338628768921,\n",
              " 3.8993918895721436,\n",
              " 3.9014041423797607,\n",
              " 3.9033761024475098,\n",
              " 3.905308485031128,\n",
              " 3.9072022438049316,\n",
              " 3.909058094024658,\n",
              " 3.910876989364624,\n",
              " 3.9126594066619873,\n",
              " 3.9144062995910645,\n",
              " 3.9161181449890137,\n",
              " 3.9177958965301514,\n",
              " 3.9194400310516357,\n",
              " 3.921051263809204,\n",
              " 3.9226303100585938,\n",
              " 3.924177646636963,\n",
              " 3.925693988800049,\n",
              " 3.927180051803589,\n",
              " 3.9286365509033203,\n",
              " 3.9300637245178223,\n",
              " 3.931462526321411,\n",
              " 3.932833194732666,\n",
              " 3.934176445007324,\n",
              " 3.935492992401123,\n",
              " 3.9367830753326416,\n",
              " 3.938047409057617,\n",
              " 3.939286470413208,\n",
              " 3.9405007362365723,\n",
              " 3.941690683364868,\n",
              " 3.942856788635254,\n",
              " 3.943999767303467,\n",
              " 3.945119857788086,\n",
              " 3.9462175369262695,\n",
              " 3.947293281555176,\n",
              " 3.948347330093384,\n",
              " 3.949380397796631,\n",
              " 3.950392723083496,\n",
              " 3.9513847827911377,\n",
              " 3.952357053756714,\n",
              " 3.953310012817383,\n",
              " 3.9542438983917236,\n",
              " 3.9551589488983154,\n",
              " 3.9560558795928955,\n",
              " 3.956934690475464,\n",
              " 3.957796096801758,\n",
              " 3.9586400985717773,\n",
              " 3.9594674110412598,\n",
              " 3.960278034210205,\n",
              " 3.9610724449157715,\n",
              " 3.961850881576538,\n",
              " 3.962613821029663,\n",
              " 3.9633615016937256,\n",
              " 3.9640941619873047,\n",
              " 3.9648122787475586,\n",
              " 3.9655160903930664,\n",
              " 3.9662058353424072,\n",
              " 3.96688175201416,\n",
              " 3.9675440788269043,\n",
              " 3.968193292617798,\n",
              " 3.968829393386841,\n",
              " 3.9694528579711914,\n",
              " 3.9700636863708496,\n",
              " 3.9706623554229736,\n",
              " 3.9712491035461426,\n",
              " 3.9718241691589355,\n",
              " 3.9723877906799316,\n",
              " 3.972939968109131,\n",
              " 3.9734811782836914,\n",
              " 3.9740116596221924,\n",
              " 3.974531412124634,\n",
              " 3.9750406742095947,\n",
              " 3.9755399227142334,\n",
              " 3.97602915763855,\n",
              " 3.976508617401123,\n",
              " 3.9769785404205322,\n",
              " 3.9774389266967773,\n",
              " 3.9778902530670166,\n",
              " 3.97833251953125,\n",
              " 3.9787659645080566,\n",
              " 3.9791905879974365,\n",
              " 3.979606866836548,\n",
              " 3.9800148010253906,\n",
              " 3.980414390563965,\n",
              " 3.9808061122894287,\n",
              " 3.9811899662017822,\n",
              " 3.9815661907196045,\n",
              " 3.9819347858428955,\n",
              " 3.9822959899902344,\n",
              " 3.9826500415802,\n",
              " 3.982996940612793,\n",
              " 3.983336925506592,\n",
              " 3.983670234680176,\n",
              " 3.983996868133545,\n",
              " 3.984316825866699,\n",
              " 3.984630584716797,\n",
              " 3.984937906265259,\n",
              " 3.985239028930664,\n",
              " 3.985534191131592,\n",
              " 3.985823392868042,\n",
              " 3.9861068725585938,\n",
              " 3.986384630203247,\n",
              " 3.986656904220581,\n",
              " 3.9869236946105957,\n",
              " 3.98718523979187,\n",
              " 3.9874415397644043,\n",
              " 3.9876925945281982,\n",
              " 3.987938642501831,\n",
              " 3.988179922103882,\n",
              " 3.9884164333343506,\n",
              " 3.9886481761932373,\n",
              " 3.988875150680542,\n",
              " 3.9890975952148438,\n",
              " 3.9893157482147217,\n",
              " 3.9895293712615967,\n",
              " 3.989738702774048,\n",
              " 3.9899439811706543,\n",
              " 3.990145206451416,\n",
              " 3.990342378616333,\n",
              " 3.9905354976654053,\n",
              " 3.990724802017212,\n",
              " 3.990910291671753,\n",
              " 3.9910922050476074,\n",
              " 3.9912703037261963,\n",
              " 3.9914448261260986,\n",
              " 3.9916160106658936,\n",
              " 3.991783618927002,\n",
              " 3.991947889328003,\n",
              " 3.9921088218688965,\n",
              " 3.9922666549682617,\n",
              " 3.9924213886260986,\n",
              " 3.9925730228424072,\n",
              " 3.9927215576171875,\n",
              " 3.9928672313690186,\n",
              " 3.9930098056793213,\n",
              " 3.993149518966675,\n",
              " 3.993286609649658,\n",
              " 3.9934208393096924,\n",
              " 3.9935524463653564,\n",
              " 3.9936814308166504,\n",
              " 3.993807792663574,\n",
              " 3.993931531906128,\n",
              " 3.9940528869628906,\n",
              " 3.9941718578338623,\n",
              " 3.994288444519043,\n",
              " 3.9944026470184326,\n",
              " 3.9945147037506104,\n",
              " 3.994624376296997,\n",
              " 3.994731903076172,\n",
              " 3.9948372840881348,\n",
              " 3.9949405193328857,\n",
              " 3.995041608810425,\n",
              " 3.995140790939331,\n",
              " 3.9952380657196045,\n",
              " 3.995333194732666,\n",
              " 3.9954264163970947,\n",
              " 3.9955179691314697,\n",
              " 3.995607614517212,\n",
              " 3.9956953525543213,\n",
              " 3.995781421661377,\n",
              " 3.995865821838379,\n",
              " 3.995948553085327,\n",
              " 3.9960296154022217,\n",
              " 3.9961090087890625,\n",
              " 3.9961867332458496,\n",
              " 3.996263027191162,\n",
              " 3.996337652206421,\n",
              " 3.996410846710205,\n",
              " 3.9964826107025146,\n",
              " 3.9965529441833496,\n",
              " 3.99662184715271,\n",
              " 3.9966893196105957,\n",
              " 3.996755599975586,\n",
              " 3.9968204498291016,\n",
              " 3.9968841075897217,\n",
              " 3.996946334838867,\n",
              " 3.997007369995117,\n",
              " 3.9970672130584717,\n",
              " 3.9971258640289307,\n",
              " 3.997183322906494,\n",
              " 3.997239589691162,\n",
              " 3.9972949028015137,\n",
              " 3.9973490238189697,\n",
              " 3.9974019527435303,\n",
              " 3.9974539279937744,\n",
              " 3.997504949569702,\n",
              " 3.9975547790527344,\n",
              " 3.99760365486145,\n",
              " 3.9976515769958496,\n",
              " 3.9976985454559326,\n",
              " 3.997744560241699,\n",
              " 3.9977896213531494,\n",
              " 3.997833728790283,\n",
              " 3.9978771209716797,\n",
              " 3.9979195594787598,\n",
              " 3.9979612827301025,\n",
              " 3.998002052307129,\n",
              " 3.998042106628418,\n",
              " 3.9980812072753906,\n",
              " 3.998119592666626,\n",
              " 3.998157262802124,\n",
              " 3.9981942176818848,\n",
              " 3.998230218887329,\n",
              " 3.998265504837036,\n",
              " 3.998300075531006,\n",
              " 3.9983341693878174,\n",
              " 3.9983675479888916,\n",
              " 3.9984002113342285,\n",
              " 3.998432159423828,\n",
              " 3.9984636306762695,\n",
              " 3.9984943866729736,\n",
              " 3.9985244274139404,\n",
              " 3.998553991317749,\n",
              " 3.9985828399658203,\n",
              " 3.9986112117767334,\n",
              " 3.9986391067504883,\n",
              " 3.998666286468506,\n",
              " 3.9986929893493652,\n",
              " 3.9987192153930664,\n",
              " 3.9987447261810303,\n",
              " 3.998769760131836,\n",
              " 3.9987943172454834,\n",
              " 3.9988183975219727,\n",
              " 3.9988420009613037,\n",
              " 3.9988651275634766,\n",
              " 3.998887777328491,\n",
              " 3.9989099502563477,\n",
              " 3.998931646347046,\n",
              " 3.998953104019165,\n",
              " 3.998974084854126,\n",
              " 3.9989945888519287,\n",
              " 3.9990146160125732,\n",
              " 3.9990344047546387,\n",
              " 3.999053716659546,\n",
              " 3.999072551727295,\n",
              " 3.999091148376465,\n",
              " 3.9991092681884766,\n",
              " 3.999127149581909,\n",
              " 3.9991445541381836,\n",
              " 3.999161720275879,\n",
              " 3.999178409576416,\n",
              " 3.999194860458374,\n",
              " 3.999211072921753,\n",
              " 3.9992268085479736,\n",
              " 3.9992423057556152,\n",
              " 3.9992575645446777,\n",
              " 3.999272346496582,\n",
              " 3.9992868900299072,\n",
              " 3.9993011951446533,\n",
              " 3.9993152618408203,\n",
              " 3.999328851699829,\n",
              " 3.999342203140259,\n",
              " 3.9993553161621094,\n",
              " 3.999368190765381,\n",
              " 3.9993808269500732,\n",
              " 3.9993932247161865,\n",
              " 3.9994053840637207,\n",
              " 3.999417304992676,\n",
              " 3.9994289875030518,\n",
              " 3.9994404315948486,\n",
              " 3.9994516372680664,\n",
              " 3.999462604522705,\n",
              " 3.9994733333587646,\n",
              " 3.999483823776245,\n",
              " 3.9994940757751465,\n",
              " 3.9995040893554688,\n",
              " 3.999514102935791,\n",
              " 3.999523878097534,\n",
              " 3.9995334148406982,\n",
              " 3.999542713165283,\n",
              " 3.999551773071289,\n",
              " 3.999560832977295,\n",
              " 3.9995696544647217,\n",
              " 3.9995782375335693,\n",
              " 3.999586582183838,\n",
              " 3.9995949268341064,\n",
              " 3.999603033065796,\n",
              " 3.9996109008789062,\n",
              " 3.9996187686920166,\n",
              " 3.999626398086548,\n",
              " 3.9996337890625,\n",
              " 3.999641180038452,\n",
              " 3.999648332595825,\n",
              " 3.999655246734619,\n",
              " 3.999662160873413,\n",
              " 3.999668836593628,\n",
              " 3.9996755123138428,\n",
              " 3.9996819496154785,\n",
              " 3.9996883869171143,\n",
              " 3.999694585800171,\n",
              " 3.9997007846832275,\n",
              " 3.999706745147705,\n",
              " 3.9997127056121826,\n",
              " 3.999718427658081,\n",
              " 3.9997241497039795,\n",
              " 3.999729633331299,\n",
              " 3.999735116958618,\n",
              " 3.9997403621673584,\n",
              " 3.9997456073760986,\n",
              " 3.9997506141662598,\n",
              " 3.999755620956421,\n",
              " 3.999760627746582,\n",
              " 3.999765396118164,\n",
              " 3.999770164489746,\n",
              " 3.999774694442749,\n",
              " 3.999779224395752,\n",
              " 3.999783754348755,\n",
              " 3.9997880458831787,\n",
              " 3.9997923374176025,\n",
              " 3.9997963905334473,\n",
              " 3.999800443649292,\n",
              " 3.9998044967651367,\n",
              " 3.9998083114624023,\n",
              " 3.999812126159668,\n",
              " 3.9998159408569336,\n",
              " 3.99981951713562,\n",
              " 3.9998230934143066,\n",
              " 3.999826669692993,\n",
              " 3.9998302459716797,\n",
              " 3.999833583831787,\n",
              " 3.9998369216918945]"
            ]
          },
          "metadata": {},
          "execution_count": 24
        }
      ]
    },
    {
      "cell_type": "markdown",
      "metadata": {
        "id": "pC7czCwk3ceH"
      },
      "source": [
        "Now, we have covered the fundamental concepts of PyTorch -- tensors, operations, neural networks, and automatic differentiation. Fire!!\n"
      ]
    }
  ],
  "metadata": {
    "accelerator": "GPU",
    "colab": {
      "collapsed_sections": [
        "WBk0ZDWY-ff8"
      ],
      "name": "PT_Part1_Intro.ipynb",
      "provenance": [],
      "include_colab_link": true
    },
    "kernelspec": {
      "display_name": "Python 3",
      "language": "python",
      "name": "python3"
    },
    "language_info": {
      "codemirror_mode": {
        "name": "ipython",
        "version": 3
      },
      "file_extension": ".py",
      "mimetype": "text/x-python",
      "name": "python",
      "nbconvert_exporter": "python",
      "pygments_lexer": "ipython3",
      "version": "3.10.6"
    },
    "vscode": {
      "interpreter": {
        "hash": "31f2aee4e71d21fbe5cf8b01ff0e069b9275f58929596ceb00d14d90e3e16cd6"
      }
    }
  },
  "nbformat": 4,
  "nbformat_minor": 0
}